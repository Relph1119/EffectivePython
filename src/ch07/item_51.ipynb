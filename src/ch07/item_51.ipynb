{
 "cells": [
  {
   "cell_type": "markdown",
   "metadata": {
    "collapsed": true
   },
   "source": [
    "# 自编的模块定义根异常，以便将调用者与API相隔离"
   ]
  },
  {
   "cell_type": "code",
   "execution_count": 1,
   "metadata": {},
   "outputs": [],
   "source": [
    "import logging"
   ]
  },
  {
   "cell_type": "markdown",
   "metadata": {},
   "source": [
    "**示例：**当外界给函数传入无效的参数时，我们可能想抛出ValueError异常，以指出这一错误。"
   ]
  },
  {
   "cell_type": "code",
   "execution_count": 2,
   "metadata": {},
   "outputs": [
    {
     "name": "stderr",
     "output_type": "stream",
     "text": [
      "ERROR:root:Expected\n",
      "Traceback (most recent call last):\n",
      "  File \"<ipython-input-2-76961c76edee>\", line 6, in <module>\n",
      "    determine_weight(1, 0)\n",
      "  File \"<ipython-input-2-76961c76edee>\", line 4, in determine_weight\n",
      "    raise ValueError('Density must be positive')\n",
      "ValueError: Density must be positive\n"
     ]
    }
   ],
   "source": [
    "try:\n",
    "    def determine_weight(volume, density):\n",
    "        if density <= 0:\n",
    "            raise ValueError('Density must be positive')\n",
    "    \n",
    "    determine_weight(1, 0)\n",
    "except:\n",
    "    logging.exception('Expected')\n",
    "else:\n",
    "    assert False"
   ]
  },
  {
   "cell_type": "markdown",
   "metadata": {},
   "source": [
    "**改进：**自己定义一套新的异常体系，提供一种根异常，然后令该模块所抛出的其他异常，都继承这个根异常。"
   ]
  },
  {
   "cell_type": "code",
   "execution_count": 3,
   "metadata": {},
   "outputs": [],
   "source": [
    "class Error(Exception):\n",
    "    \"\"\"Base-class for all exceptions raised by this module.\"\"\"\n",
    "\n",
    "class InvalidDensityError(Error):\n",
    "    \"\"\"There was a problem with a provided density value.\"\"\""
   ]
  },
  {
   "cell_type": "markdown",
   "metadata": {},
   "source": [
    "采用try/except语句来捕获根异常"
   ]
  },
  {
   "cell_type": "code",
   "execution_count": 4,
   "metadata": {},
   "outputs": [
    {
     "name": "stderr",
     "output_type": "stream",
     "text": [
      "ERROR:root:Unexpected error: Density must be positive\n"
     ]
    }
   ],
   "source": [
    "class my_module(object):\n",
    "    Error = Error\n",
    "    InvalidDensityError = InvalidDensityError\n",
    "\n",
    "    @staticmethod\n",
    "    def determine_weight(volume, density):\n",
    "        if density <= 0:\n",
    "            raise InvalidDensityError('Density must be positive')\n",
    "try:\n",
    "    weight = my_module.determine_weight(1, -1)\n",
    "    assert False\n",
    "except my_module.Error as e:\n",
    "    logging.error('Unexpected error: %s', e)"
   ]
  },
  {
   "cell_type": "markdown",
   "metadata": {},
   "source": [
    "**调用代码与API隔离的好处：**  \n",
    "1. 通过捕获根异常，调用者得知他们在使用你的API时，所编写的调用代码是否正确。"
   ]
  },
  {
   "cell_type": "code",
   "execution_count": 5,
   "metadata": {},
   "outputs": [],
   "source": [
    "weight = 5\n",
    "try:\n",
    "    weight = my_module.determine_weight(1, -1)\n",
    "    assert False\n",
    "except my_module.InvalidDensityError:\n",
    "    weight = 0\n",
    "except my_module.Error as e:\n",
    "    logging.error('Bug in the calling code: %s', e)\n",
    "\n",
    "assert weight == 0"
   ]
  },
  {
   "cell_type": "markdown",
   "metadata": {},
   "source": [
    "2. 帮助模块开发者寻找API里面的bug"
   ]
  },
  {
   "cell_type": "code",
   "execution_count": 6,
   "metadata": {},
   "outputs": [],
   "source": [
    "weight = 5\n",
    "try:\n",
    "    weight = my_module.determine_weight(1, -1)\n",
    "    assert False\n",
    "except my_module.InvalidDensityError:\n",
    "    weight = 0\n",
    "except my_module.Error as e:\n",
    "    logging.error('Bug in the calling code: %s', e)\n",
    "except Exception as e:\n",
    "    logging.error('Bug in the API code: %s', e)\n",
    "    raise\n",
    "\n",
    "assert weight == 0"
   ]
  },
  {
   "cell_type": "markdown",
   "metadata": {},
   "source": [
    "3. 便于API的后续演化，将来可能在API里面提供更为具体的异常。"
   ]
  },
  {
   "cell_type": "code",
   "execution_count": 7,
   "metadata": {},
   "outputs": [],
   "source": [
    "class NegativeDensityError(InvalidDensityError):\n",
    "    \"\"\"A provided density value was negative.\"\"\"\n",
    "\n",
    "def determine_weight(volume, density):\n",
    "    if density < 0:\n",
    "        raise NegativeDensityError"
   ]
  },
  {
   "cell_type": "code",
   "execution_count": 8,
   "metadata": {},
   "outputs": [
    {
     "name": "stderr",
     "output_type": "stream",
     "text": [
      "ERROR:root:Expected\n",
      "Traceback (most recent call last):\n",
      "  File \"<ipython-input-8-8d24802704bf>\", line 5, in <module>\n",
      "    weight = my_module.determine_weight(1, -1)\n",
      "  File \"<ipython-input-7-a904bdae8298>\", line 6, in determine_weight\n",
      "    raise NegativeDensityError\n",
      "NegativeDensityError\n",
      "\n",
      "The above exception was the direct cause of the following exception:\n",
      "\n",
      "Traceback (most recent call last):\n",
      "  File \"<ipython-input-8-8d24802704bf>\", line 8, in <module>\n",
      "    raise ValueError('Must supply non-negative density') from e\n",
      "ValueError: Must supply non-negative density\n"
     ]
    }
   ],
   "source": [
    "try:\n",
    "    my_module.NegativeDensityError = NegativeDensityError\n",
    "    my_module.determine_weight = determine_weight\n",
    "    try:\n",
    "        weight = my_module.determine_weight(1, -1)\n",
    "        assert False\n",
    "    except my_module.NegativeDensityError as e:\n",
    "        raise ValueError('Must supply non-negative density') from e\n",
    "    except my_module.InvalidDensityError:\n",
    "        weight = 0\n",
    "    except my_module.Error as e:\n",
    "        logging.error('Bug in the calling code: %s', e)\n",
    "    except Exception as e:\n",
    "        logging.error('Bug in the API code: %s', e)\n",
    "        raise\n",
    "except:\n",
    "    logging.exception('Expected')\n",
    "else:\n",
    "    assert False"
   ]
  },
  {
   "cell_type": "code",
   "execution_count": 9,
   "metadata": {},
   "outputs": [],
   "source": [
    "class WeightError(Error):\n",
    "    \"\"\"Base-class for weight calculation errors.\"\"\"\n",
    "\n",
    "class VolumeError(Error):\n",
    "    \"\"\"Base-class for volume calculation errors.\"\"\"\n",
    "\n",
    "class DensityError(Error):\n",
    "    \"\"\"Base-class for density calculation errors.\"\"\""
   ]
  }
 ],
 "metadata": {
  "kernelspec": {
   "display_name": "Python 3",
   "language": "python",
   "name": "python3"
  },
  "language_info": {
   "codemirror_mode": {
    "name": "ipython",
    "version": 3
   },
   "file_extension": ".py",
   "mimetype": "text/x-python",
   "name": "python",
   "nbconvert_exporter": "python",
   "pygments_lexer": "ipython3",
   "version": "3.7.2"
  },
  "toc": {
   "base_numbering": 1,
   "nav_menu": {},
   "number_sections": false,
   "sideBar": true,
   "skip_h1_title": false,
   "title_cell": "Table of Contents",
   "title_sidebar": "Contents",
   "toc_cell": false,
   "toc_position": {},
   "toc_section_display": true,
   "toc_window_display": false
  }
 },
 "nbformat": 4,
 "nbformat_minor": 1
}

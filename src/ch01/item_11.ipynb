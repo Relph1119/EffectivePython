{
 "cells": [
  {
   "cell_type": "markdown",
   "metadata": {
    "collapsed": true
   },
   "source": [
    "# 用zip函数同时遍历两个迭代器"
   ]
  },
  {
   "cell_type": "code",
   "execution_count": 1,
   "metadata": {},
   "outputs": [],
   "source": [
    "names = ['Cecilia', 'Lise', 'Marie']\n",
    "letters = [len(n) for n in names]"
   ]
  },
  {
   "cell_type": "markdown",
   "metadata": {},
   "source": [
    "如果想平行地迭代这两份列表，那么可以根据names源列表的长度来执行循环"
   ]
  },
  {
   "cell_type": "code",
   "execution_count": 2,
   "metadata": {},
   "outputs": [
    {
     "name": "stdout",
     "output_type": "stream",
     "text": [
      "Cecilia\n"
     ]
    }
   ],
   "source": [
    "longest_name = None\n",
    "max_letters = 0\n",
    "\n",
    "for i in range(len(names)):\n",
    "    count = letters[i]\n",
    "    if count > max_letters:\n",
    "        longest_name = names[i]\n",
    "        max_letters = count\n",
    "\n",
    "print(longest_name)"
   ]
  },
  {
   "cell_type": "markdown",
   "metadata": {},
   "source": [
    "改用enumerate来访问列表"
   ]
  },
  {
   "cell_type": "code",
   "execution_count": 3,
   "metadata": {},
   "outputs": [],
   "source": [
    "for i, name in enumerate(names):\n",
    "    count = letters[i]\n",
    "    if count > max_letters:\n",
    "        longest_name = names[i]\n",
    "        max_letters = count"
   ]
  },
  {
   "cell_type": "markdown",
   "metadata": {},
   "source": [
    "zip函数可以把两个或两个以上的迭代器封装为生成器，以便稍后求值"
   ]
  },
  {
   "cell_type": "code",
   "execution_count": 4,
   "metadata": {},
   "outputs": [],
   "source": [
    "for name, count in zip(names, letters):\n",
    "    if count > max_letters:\n",
    "        longest_name = names\n",
    "        max_letters = count"
   ]
  },
  {
   "cell_type": "markdown",
   "metadata": {},
   "source": [
    "zip函数的问题：如果输入的迭代器长度不同，会出问题"
   ]
  },
  {
   "cell_type": "code",
   "execution_count": 5,
   "metadata": {},
   "outputs": [
    {
     "name": "stdout",
     "output_type": "stream",
     "text": [
      "Cecilia\n",
      "Lise\n",
      "Marie\n"
     ]
    }
   ],
   "source": [
    "names.append('Rosalind')\n",
    "for name, count in zip(names, letters):\n",
    "    print(name)"
   ]
  },
  {
   "cell_type": "markdown",
   "metadata": {},
   "source": [
    "新元素‘Rosalind’并没有出现在遍历结果中"
   ]
  },
  {
   "cell_type": "markdown",
   "metadata": {},
   "source": [
    "**如果不能确定zip所封装的列表是否等长，则可以考虑改用itertools内置模块中的zip_longest函数**"
   ]
  }
 ],
 "metadata": {
  "kernelspec": {
   "display_name": "Python 3",
   "language": "python",
   "name": "python3"
  },
  "language_info": {
   "codemirror_mode": {
    "name": "ipython",
    "version": 3
   },
   "file_extension": ".py",
   "mimetype": "text/x-python",
   "name": "python",
   "nbconvert_exporter": "python",
   "pygments_lexer": "ipython3",
   "version": "3.7.2"
  }
 },
 "nbformat": 4,
 "nbformat_minor": 1
}

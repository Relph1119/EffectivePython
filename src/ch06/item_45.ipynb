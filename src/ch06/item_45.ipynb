{
 "cells": [
  {
   "cell_type": "markdown",
   "metadata": {
    "collapsed": true
   },
   "source": [
    "# 应该用datetime模块来处理本地时间，而不是用time模块"
   ]
  },
  {
   "cell_type": "code",
   "execution_count": 1,
   "metadata": {},
   "outputs": [],
   "source": [
    "import logging"
   ]
  },
  {
   "cell_type": "markdown",
   "metadata": {},
   "source": [
    "## time模块"
   ]
  },
  {
   "cell_type": "markdown",
   "metadata": {},
   "source": [
    "内置的time模块中，有个名叫localtime函数，它可以把UNIX时间戳转换为与宿主计算机的时区相符的当地时间。"
   ]
  },
  {
   "cell_type": "code",
   "execution_count": 2,
   "metadata": {},
   "outputs": [
    {
     "name": "stdout",
     "output_type": "stream",
     "text": [
      "2014-08-11 02:18:30\n"
     ]
    }
   ],
   "source": [
    "from time import localtime, strftime\n",
    "\n",
    "now = 1407694710\n",
    "local_tuple = localtime(now)\n",
    "time_format = '%Y-%m-%d %H:%M:%S'\n",
    "time_str = strftime(time_format, local_tuple)\n",
    "print(time_str)"
   ]
  },
  {
   "cell_type": "markdown",
   "metadata": {},
   "source": [
    "程序还需要做反向处理，把用户输入的本地时间，转换为UTC时间。"
   ]
  },
  {
   "cell_type": "code",
   "execution_count": 3,
   "metadata": {},
   "outputs": [
    {
     "name": "stdout",
     "output_type": "stream",
     "text": [
      "1407694710.0\n"
     ]
    }
   ],
   "source": [
    "from time import mktime, strptime\n",
    "\n",
    "time_tuple = strptime(time_str, time_format)\n",
    "utc_now = mktime(time_tuple)\n",
    "print(utc_now)"
   ]
  },
  {
   "cell_type": "markdown",
   "metadata": {},
   "source": [
    "把某个地区的当地时间转换为另一个时区的当地时间"
   ]
  },
  {
   "cell_type": "code",
   "execution_count": 4,
   "metadata": {},
   "outputs": [
    {
     "name": "stdout",
     "output_type": "stream",
     "text": [
      "2014-05-01 15:45:16\n"
     ]
    }
   ],
   "source": [
    "parse_format = '%Y-%m-%d %H:%M:%S %Z'\n",
    "depart_sfo = '2014-05-01 15:45:16 GMT'\n",
    "time_tuple = strptime(depart_sfo, parse_format)\n",
    "time_str = strftime(time_format, time_tuple)\n",
    "print(time_str)"
   ]
  },
  {
   "cell_type": "code",
   "execution_count": 5,
   "metadata": {},
   "outputs": [
    {
     "name": "stderr",
     "output_type": "stream",
     "text": [
      "ERROR:root:Expected\n",
      "Traceback (most recent call last):\n",
      "  File \"<ipython-input-5-2a32494428f3>\", line 3, in <module>\n",
      "    time_tuple = strptime(arrival_nyc, time_format)\n",
      "  File \"E:\\DevSoft\\Python\\Python37\\lib\\_strptime.py\", line 571, in _strptime_time\n",
      "    tt = _strptime(data_string, format)[0]\n",
      "  File \"E:\\DevSoft\\Python\\Python37\\lib\\_strptime.py\", line 362, in _strptime\n",
      "    data_string[found.end():])\n",
      "ValueError: unconverted data remains:  EDT\n"
     ]
    }
   ],
   "source": [
    "try:\n",
    "    arrival_nyc = '2014-05-01 23:33:24 EDT'\n",
    "    time_tuple = strptime(arrival_nyc, time_format)\n",
    "except:\n",
    "    logging.exception('Expected')\n",
    "else:\n",
    "    assert False"
   ]
  },
  {
   "cell_type": "markdown",
   "metadata": {},
   "source": [
    "## datetime模块"
   ]
  },
  {
   "cell_type": "code",
   "execution_count": 6,
   "metadata": {},
   "outputs": [
    {
     "name": "stdout",
     "output_type": "stream",
     "text": [
      "2014-08-11 02:18:30+08:00\n"
     ]
    }
   ],
   "source": [
    "from datetime import datetime, timezone\n",
    "\n",
    "#把UTC格式的当前时间，转换为计算机所用的本地时间\n",
    "now = datetime(2014, 8, 10, 18, 18, 30)\n",
    "now_utc = now.replace(tzinfo=timezone.utc)\n",
    "now_local = now_utc.astimezone()\n",
    "print(now_local)"
   ]
  },
  {
   "cell_type": "code",
   "execution_count": 7,
   "metadata": {},
   "outputs": [
    {
     "name": "stdout",
     "output_type": "stream",
     "text": [
      "1407640710.0\n"
     ]
    }
   ],
   "source": [
    "# 把本地时间转换成UTC格式的UNIX时间戳\n",
    "time_str = '2014-08-10 11:18:30'\n",
    "now = datetime.strptime(time_str, time_format)\n",
    "time_tuple = now.timetuple()\n",
    "utc_now = mktime(time_tuple)\n",
    "print(utc_now)"
   ]
  },
  {
   "cell_type": "markdown",
   "metadata": {},
   "source": [
    "为了有效使用pytz模块，应该先把当地时间转换为UTC，然后针对UTC值进行datetime操作，最后再把UTC转回当地时间"
   ]
  },
  {
   "cell_type": "code",
   "execution_count": 8,
   "metadata": {},
   "outputs": [
    {
     "name": "stdout",
     "output_type": "stream",
     "text": [
      "2014-05-02 03:33:24+00:00\n"
     ]
    }
   ],
   "source": [
    "# 把航班到达纽约的时间，转换为UTC格式的datetime对象\n",
    "import pytz\n",
    "arrival_nyc = '2014-05-01 23:33:24'\n",
    "nyc_dt_naive = datetime.strptime(arrival_nyc, time_format)\n",
    "eastern = pytz.timezone('US/Eastern')\n",
    "nyc_dt = eastern.localize(nyc_dt_naive)\n",
    "utc_dt = pytz.utc.normalize(nyc_dt.astimezone(pytz.utc))\n",
    "print(utc_dt)"
   ]
  },
  {
   "cell_type": "markdown",
   "metadata": {},
   "source": [
    "得到UTC格式的datetime之后，再把它转换成旧金山当地时间"
   ]
  },
  {
   "cell_type": "code",
   "execution_count": 9,
   "metadata": {},
   "outputs": [
    {
     "name": "stdout",
     "output_type": "stream",
     "text": [
      "2014-05-01 20:33:24-07:00\n"
     ]
    }
   ],
   "source": [
    "pacific = pytz.timezone('US/Pacific')\n",
    "sf_dt = pacific.normalize(utc_dt.astimezone(pacific))\n",
    "print(sf_dt)"
   ]
  },
  {
   "cell_type": "markdown",
   "metadata": {},
   "source": [
    "还可以把这个时间，轻松转换成尼泊尔当地时间。"
   ]
  },
  {
   "cell_type": "code",
   "execution_count": 10,
   "metadata": {},
   "outputs": [
    {
     "name": "stdout",
     "output_type": "stream",
     "text": [
      "2014-05-02 09:18:24+05:45\n"
     ]
    }
   ],
   "source": [
    "nepal = pytz.timezone('Asia/Katmandu')\n",
    "nepal_dt = nepal.normalize(utc_dt.astimezone(nepal))\n",
    "print(nepal_dt)"
   ]
  }
 ],
 "metadata": {
  "kernelspec": {
   "display_name": "Python 3",
   "language": "python",
   "name": "python3"
  },
  "language_info": {
   "codemirror_mode": {
    "name": "ipython",
    "version": 3
   },
   "file_extension": ".py",
   "mimetype": "text/x-python",
   "name": "python",
   "nbconvert_exporter": "python",
   "pygments_lexer": "ipython3",
   "version": "3.7.2"
  },
  "toc": {
   "base_numbering": 1,
   "nav_menu": {},
   "number_sections": false,
   "sideBar": true,
   "skip_h1_title": false,
   "title_cell": "Table of Contents",
   "title_sidebar": "Contents",
   "toc_cell": false,
   "toc_position": {},
   "toc_section_display": true,
   "toc_window_display": false
  }
 },
 "nbformat": 4,
 "nbformat_minor": 1
}

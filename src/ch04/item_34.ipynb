{
 "cells": [
  {
   "cell_type": "markdown",
   "metadata": {
    "collapsed": true
   },
   "source": [
    "# 用元类来注册子类"
   ]
  },
  {
   "cell_type": "code",
   "execution_count": 1,
   "metadata": {},
   "outputs": [],
   "source": [
    "import logging\n",
    "import json"
   ]
  },
  {
   "cell_type": "markdown",
   "metadata": {},
   "source": [
    "元类还有一个用途：在程序中自动注册类型。对于需要反向查找的场合，很有用的。可以在简单的标识符与对应的类之间，建立映射关系。"
   ]
  },
  {
   "cell_type": "markdown",
   "metadata": {},
   "source": [
    "**示例：**将Python对象表示为JSON格式的序列化数据。定义一个基类，可以记录程序调用本类构造器时所用的参数，并将其转换为JSON字典。"
   ]
  },
  {
   "cell_type": "code",
   "execution_count": 2,
   "metadata": {},
   "outputs": [],
   "source": [
    "class Serializable(object):\n",
    "    def __init__(self, *args):\n",
    "        self.args = args\n",
    "\n",
    "    def serialize(self):\n",
    "        return json.dumps({'args': self.args})"
   ]
  },
  {
   "cell_type": "code",
   "execution_count": 3,
   "metadata": {},
   "outputs": [],
   "source": [
    "class Point2D(Serializable):\n",
    "    def __init__(self, x, y):\n",
    "        super().__init__(x, y)\n",
    "        self.x = x\n",
    "        self.y = y\n",
    "\n",
    "    def __repr__(self):\n",
    "        return 'Point2D(%d, %d)' % (self.x, self.y)"
   ]
  },
  {
   "cell_type": "code",
   "execution_count": 4,
   "metadata": {},
   "outputs": [
    {
     "name": "stdout",
     "output_type": "stream",
     "text": [
      "Object:     Point2D(5, 3)\n",
      "Serialized: {\"args\": [5, 3]}\n"
     ]
    }
   ],
   "source": [
    "point = Point2D(5, 3)\n",
    "print('Object:    ', point)\n",
    "print('Serialized:', point.serialize())"
   ]
  },
  {
   "cell_type": "markdown",
   "metadata": {},
   "source": [
    "对JSON字符串执行反序列化操作，并构建出该字符串所表示的Point2D对象。"
   ]
  },
  {
   "cell_type": "code",
   "execution_count": 5,
   "metadata": {},
   "outputs": [],
   "source": [
    "class Deserializable(Serializable):\n",
    "    @classmethod\n",
    "    def deserialize(cls, json_data):\n",
    "        params = json.loads(json_data)\n",
    "        return cls(*params['args'])"
   ]
  },
  {
   "cell_type": "markdown",
   "metadata": {},
   "source": [
    "有了Deserializable，有了一种通用的方式，对简单且不可变的对象执行序列化和反序列化操作。"
   ]
  },
  {
   "cell_type": "code",
   "execution_count": 6,
   "metadata": {},
   "outputs": [],
   "source": [
    "class BetterPoint2D(Deserializable):\n",
    "    def __init__(self, x, y):\n",
    "        super().__init__(x, y)\n",
    "        self.x = x\n",
    "        self.y = y\n",
    "\n",
    "    def __repr__(self):\n",
    "        return 'BetterPoint2D(%d, %d)' % (self.x, self.y)"
   ]
  },
  {
   "cell_type": "code",
   "execution_count": 7,
   "metadata": {},
   "outputs": [
    {
     "name": "stdout",
     "output_type": "stream",
     "text": [
      "Before:     BetterPoint2D(5, 3)\n",
      "Serialized: {\"args\": [5, 3]}\n",
      "After:      BetterPoint2D(5, 3)\n"
     ]
    }
   ],
   "source": [
    "point = BetterPoint2D(5, 3)\n",
    "print('Before:    ', point)\n",
    "data = point.serialize()\n",
    "print('Serialized:', data)\n",
    "after = BetterPoint2D.deserialize(data)\n",
    "print('After:     ', after)"
   ]
  },
  {
   "cell_type": "markdown",
   "metadata": {},
   "source": [
    "**缺点：**需要提前知道序列化的数据是什么类型，然后才能对其做反序列化操作。"
   ]
  },
  {
   "cell_type": "markdown",
   "metadata": {},
   "source": [
    "**理想的方案：**有很多类都可以把本类对象转换为JSON格式的序列化字符串，但是只需要一个公共的反序列化函数，就可以将任意的JSON字符串还原成相应的Python对象。"
   ]
  },
  {
   "cell_type": "markdown",
   "metadata": {},
   "source": [
    "## 第一次改进：把序列化对象的类名写到JSON数据里面"
   ]
  },
  {
   "cell_type": "code",
   "execution_count": 8,
   "metadata": {},
   "outputs": [],
   "source": [
    "class BetterSerializable(object):\n",
    "    def __init__(self, *args):\n",
    "        self.args = args\n",
    "\n",
    "    def serialize(self):\n",
    "        return json.dumps({\n",
    "            'class': self.__class__.__name__,\n",
    "            'args': self.args,\n",
    "        })\n",
    "\n",
    "    def __repr__(self):\n",
    "        return '%s(%s)' % (\n",
    "            self.__class__.__name__,\n",
    "            ', '.join(str(x) for x in self.args))"
   ]
  },
  {
   "cell_type": "code",
   "execution_count": 9,
   "metadata": {},
   "outputs": [],
   "source": [
    "registry = {}"
   ]
  },
  {
   "cell_type": "code",
   "execution_count": 10,
   "metadata": {},
   "outputs": [],
   "source": [
    "# 把将来可能执行反序列化操作的类，都注册一遍。\n",
    "def register_class(target_class):\n",
    "    registry[target_class.__name__] = target_class"
   ]
  },
  {
   "cell_type": "code",
   "execution_count": 11,
   "metadata": {},
   "outputs": [],
   "source": [
    "def deserialize(data):\n",
    "    params = json.loads(data)\n",
    "    name = params['class']\n",
    "    target_class = registry[name]\n",
    "    return target_class(*params['args'])"
   ]
  },
  {
   "cell_type": "code",
   "execution_count": 12,
   "metadata": {},
   "outputs": [],
   "source": [
    "class EvenBetterPoint2D(BetterSerializable):\n",
    "    def __init__(self, x, y):\n",
    "        super().__init__(x, y)\n",
    "        self.x = x\n",
    "        self.y = y"
   ]
  },
  {
   "cell_type": "code",
   "execution_count": 13,
   "metadata": {},
   "outputs": [],
   "source": [
    "register_class(EvenBetterPoint2D)"
   ]
  },
  {
   "cell_type": "code",
   "execution_count": 14,
   "metadata": {},
   "outputs": [
    {
     "name": "stdout",
     "output_type": "stream",
     "text": [
      "Before:     EvenBetterPoint2D(5, 3)\n",
      "Serialized: {\"class\": \"EvenBetterPoint2D\", \"args\": [5, 3]}\n",
      "After:      EvenBetterPoint2D(5, 3)\n"
     ]
    }
   ],
   "source": [
    "point = EvenBetterPoint2D(5, 3)\n",
    "print('Before:    ', point)\n",
    "data = point.serialize()\n",
    "print('Serialized:', data)\n",
    "after = deserialize(data)\n",
    "print('After:     ', after)"
   ]
  },
  {
   "cell_type": "markdown",
   "metadata": {},
   "source": [
    "**缺点：**开发者可能会忘记调用register_class函数。"
   ]
  },
  {
   "cell_type": "code",
   "execution_count": 15,
   "metadata": {},
   "outputs": [],
   "source": [
    "class Point3D(BetterSerializable):\n",
    "    def __init__(self, x, y, z):\n",
    "        super().__init__(x, y, z)\n",
    "        self.x = x\n",
    "        self.y = y\n",
    "        self.z = z"
   ]
  },
  {
   "cell_type": "code",
   "execution_count": 16,
   "metadata": {},
   "outputs": [
    {
     "name": "stderr",
     "output_type": "stream",
     "text": [
      "ERROR:root:Expected\n",
      "Traceback (most recent call last):\n",
      "  File \"<ipython-input-16-2deb01ec07bb>\", line 5, in <module>\n",
      "    deserialize(data)\n",
      "  File \"<ipython-input-11-4db209d626fc>\", line 4, in deserialize\n",
      "    target_class = registry[name]\n",
      "KeyError: 'Point3D'\n"
     ]
    }
   ],
   "source": [
    "# Forgot to call register_class! Whoops!\n",
    "try:\n",
    "    point = Point3D(5, 9, -4)\n",
    "    data = point.serialize()\n",
    "    deserialize(data)\n",
    "except:\n",
    "    logging.exception('Expected')\n",
    "else:\n",
    "    assert False"
   ]
  },
  {
   "cell_type": "markdown",
   "metadata": {},
   "source": [
    "## 第二次改进：在继承BetterSerializable，程序会自动调用register_class函数，将新的子类注册好。"
   ]
  },
  {
   "cell_type": "code",
   "execution_count": 17,
   "metadata": {},
   "outputs": [],
   "source": [
    "class Meta(type):\n",
    "    def __new__(meta, name, bases, class_dict):\n",
    "        cls = type.__new__(meta, name, bases, class_dict)\n",
    "        register_class(cls)\n",
    "        return cls"
   ]
  },
  {
   "cell_type": "code",
   "execution_count": 18,
   "metadata": {},
   "outputs": [],
   "source": [
    "class RegisteredSerializable(BetterSerializable, metaclass=Meta):\n",
    "    pass"
   ]
  },
  {
   "cell_type": "code",
   "execution_count": 19,
   "metadata": {},
   "outputs": [],
   "source": [
    "class Vector3D(RegisteredSerializable):\n",
    "    def __init__(self, x, y, z):\n",
    "        super().__init__(x, y, z)\n",
    "        self.x, self.y, self.z = x, y, z"
   ]
  },
  {
   "cell_type": "code",
   "execution_count": 20,
   "metadata": {},
   "outputs": [
    {
     "name": "stdout",
     "output_type": "stream",
     "text": [
      "Before:     Vector3D(10, -7, 3)\n",
      "Serialized: {\"class\": \"Vector3D\", \"args\": [10, -7, 3]}\n",
      "After:      Vector3D(10, -7, 3)\n"
     ]
    }
   ],
   "source": [
    "v3 = Vector3D(10, -7, 3)\n",
    "print('Before:    ', v3)\n",
    "data = v3.serialize()\n",
    "print('Serialized:', data)\n",
    "print('After:     ', deserialize(data))"
   ]
  }
 ],
 "metadata": {
  "kernelspec": {
   "display_name": "Python 3",
   "language": "python",
   "name": "python3"
  },
  "language_info": {
   "codemirror_mode": {
    "name": "ipython",
    "version": 3
   },
   "file_extension": ".py",
   "mimetype": "text/x-python",
   "name": "python",
   "nbconvert_exporter": "python",
   "pygments_lexer": "ipython3",
   "version": "3.7.2"
  },
  "toc": {
   "base_numbering": 1,
   "nav_menu": {},
   "number_sections": false,
   "sideBar": true,
   "skip_h1_title": false,
   "title_cell": "Table of Contents",
   "title_sidebar": "Contents",
   "toc_cell": false,
   "toc_position": {},
   "toc_section_display": true,
   "toc_window_display": false
  }
 },
 "nbformat": 4,
 "nbformat_minor": 1
}

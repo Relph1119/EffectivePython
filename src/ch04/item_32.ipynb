{
 "cells": [
  {
   "cell_type": "markdown",
   "metadata": {
    "collapsed": true
   },
   "source": [
    "# 用\\_\\_getattr\\_\\_、\\_\\_getattribute\\_\\_和\\_\\_setattr\\_\\_实现按需生成的属性"
   ]
  },
  {
   "cell_type": "code",
   "execution_count": 1,
   "metadata": {},
   "outputs": [],
   "source": [
    "import logging"
   ]
  },
  {
   "cell_type": "markdown",
   "metadata": {},
   "source": [
    "**示例：**把数据库的行表示为Python对象。"
   ]
  },
  {
   "cell_type": "code",
   "execution_count": 2,
   "metadata": {},
   "outputs": [],
   "source": [
    "class LazyDB(object):\n",
    "    def __init__(self):\n",
    "        self.exists = 5\n",
    "\n",
    "    def __getattr__(self, name):\n",
    "        value = 'Value for %s' % name\n",
    "        setattr(self, name, value)\n",
    "        return value"
   ]
  },
  {
   "cell_type": "code",
   "execution_count": 3,
   "metadata": {},
   "outputs": [
    {
     "name": "stdout",
     "output_type": "stream",
     "text": [
      "Before: {'exists': 5}\n",
      "foo:    Value for foo\n",
      "After:  {'exists': 5, 'foo': 'Value for foo'}\n"
     ]
    }
   ],
   "source": [
    "data = LazyDB()\n",
    "print('Before:', data.__dict__)\n",
    "print('foo:   ', data.foo)\n",
    "print('After: ', data.__dict__)"
   ]
  },
  {
   "cell_type": "markdown",
   "metadata": {},
   "source": [
    "访问data对象所缺失的foo属性，会导致Python调用刚才定义的\\_\\_getattr\\_\\_方法，从而修改实例的\\_\\_dict\\_\\_字典。"
   ]
  },
  {
   "cell_type": "markdown",
   "metadata": {},
   "source": [
    "**改进：**给LazyDB添加记录功能，把程序对\\_\\_getattr\\_\\_的调用行为记录下来。"
   ]
  },
  {
   "cell_type": "code",
   "execution_count": 4,
   "metadata": {},
   "outputs": [],
   "source": [
    "class LoggingLazyDB(LazyDB):\n",
    "    def __getattr__(self, name):\n",
    "        print('Called __getattr__(%s)' % name)\n",
    "        return super().__getattr__(name)"
   ]
  },
  {
   "cell_type": "code",
   "execution_count": 5,
   "metadata": {},
   "outputs": [
    {
     "name": "stdout",
     "output_type": "stream",
     "text": [
      "exists: 5\n",
      "Called __getattr__(foo)\n",
      "foo:    Value for foo\n",
      "foo:    Value for foo\n"
     ]
    }
   ],
   "source": [
    "data = LoggingLazyDB()\n",
    "print('exists:', data.exists)\n",
    "print('foo:   ', data.foo)\n",
    "print('foo:   ', data.foo)"
   ]
  },
  {
   "cell_type": "markdown",
   "metadata": {},
   "source": [
    "## 需求变更1：在数据库中实现事务处理。用户下次访问某属性时，数据库中对应的行是否依然有效，已经相关事务是否依然处于开启状态。"
   ]
  },
  {
   "cell_type": "markdown",
   "metadata": {},
   "source": [
    "**解决方法：**使用\\_\\_getattribute\\_\\_，在程序每次访问属性时，检查全局事务状态。"
   ]
  },
  {
   "cell_type": "code",
   "execution_count": 6,
   "metadata": {},
   "outputs": [],
   "source": [
    "class ValidatingDB(object):\n",
    "    def __init__(self):\n",
    "        self.exists = 5\n",
    "\n",
    "    def __getattribute__(self, name):\n",
    "        print('Called __getattribute__(%s)' % name)\n",
    "        try:\n",
    "            return super().__getattribute__(name)\n",
    "        except AttributeError:\n",
    "            value = 'Value for %s' % name\n",
    "            setattr(self, name, value)\n",
    "            return value"
   ]
  },
  {
   "cell_type": "code",
   "execution_count": 7,
   "metadata": {},
   "outputs": [
    {
     "name": "stdout",
     "output_type": "stream",
     "text": [
      "Called __getattribute__(exists)\n",
      "exists: 5\n",
      "Called __getattribute__(foo)\n",
      "foo:    Value for foo\n",
      "Called __getattribute__(foo)\n",
      "foo:    Value for foo\n"
     ]
    }
   ],
   "source": [
    "data = ValidatingDB()\n",
    "print('exists:', data.exists)\n",
    "print('foo:   ', data.foo)\n",
    "print('foo:   ', data.foo)"
   ]
  },
  {
   "cell_type": "code",
   "execution_count": 8,
   "metadata": {},
   "outputs": [
    {
     "name": "stderr",
     "output_type": "stream",
     "text": [
      "ERROR:root:Expected\n",
      "Traceback (most recent call last):\n",
      "  File \"<ipython-input-8-56046b92ff89>\", line 12, in <module>\n",
      "    data.bad_name\n",
      "  File \"<ipython-input-8-56046b92ff89>\", line 5, in __getattr__\n",
      "    raise AttributeError('%s is missing' % name)\n",
      "AttributeError: bad_name is missing\n"
     ]
    }
   ],
   "source": [
    "try:\n",
    "    class MissingPropertyDB(object):\n",
    "        def __getattr__(self, name):\n",
    "            if name == 'bad_name':\n",
    "                raise AttributeError('%s is missing' % name)\n",
    "            value = 'Value for %s' % name\n",
    "            setattr(self, name, value)\n",
    "            return value\n",
    "\n",
    "    data = MissingPropertyDB()\n",
    "    data.foo  # Test this works\n",
    "    data.bad_name\n",
    "except:\n",
    "    logging.exception('Expected')\n",
    "else:\n",
    "    assert False"
   ]
  },
  {
   "cell_type": "markdown",
   "metadata": {},
   "source": [
    "## hasatter和getattr函数的使用"
   ]
  },
  {
   "cell_type": "markdown",
   "metadata": {},
   "source": [
    "hasatter函数：判断对象是否已经拥有了相关的属性。getattr函数：获取属性值。"
   ]
  },
  {
   "cell_type": "markdown",
   "metadata": {},
   "source": [
    "**示例1：**\\_\\_getattr\\_\\_方法只调用了一次"
   ]
  },
  {
   "cell_type": "code",
   "execution_count": 9,
   "metadata": {},
   "outputs": [
    {
     "name": "stdout",
     "output_type": "stream",
     "text": [
      "Before:      {'exists': 5}\n",
      "Called __getattr__(foo)\n",
      "foo exists:  True\n",
      "After:       {'exists': 5, 'foo': 'Value for foo'}\n",
      "foo exists:  True\n"
     ]
    }
   ],
   "source": [
    "data = LoggingLazyDB()\n",
    "print('Before:     ', data.__dict__)\n",
    "print('foo exists: ', hasattr(data, 'foo'))\n",
    "print('After:      ', data.__dict__)\n",
    "print('foo exists: ', hasattr(data, 'foo'))"
   ]
  },
  {
   "cell_type": "markdown",
   "metadata": {},
   "source": [
    "**示例2：**本类实现的是\\_\\_getattribute\\_\\_方法，每次在对象上面调用hasattr或getattr函数时，此方法都会执行。"
   ]
  },
  {
   "cell_type": "code",
   "execution_count": 10,
   "metadata": {},
   "outputs": [
    {
     "name": "stdout",
     "output_type": "stream",
     "text": [
      "Called __getattribute__(foo)\n",
      "foo exists:  True\n",
      "Called __getattribute__(foo)\n",
      "foo exists:  True\n"
     ]
    }
   ],
   "source": [
    "data = ValidatingDB()\n",
    "print('foo exists: ', hasattr(data, 'foo'))\n",
    "print('foo exists: ', hasattr(data, 'foo'))"
   ]
  },
  {
   "cell_type": "markdown",
   "metadata": {},
   "source": [
    "## 需求变更2：当程序把值赋给Python对象后，以惰性方式将其推回数据库。"
   ]
  },
  {
   "cell_type": "code",
   "execution_count": 11,
   "metadata": {},
   "outputs": [],
   "source": [
    "class SavingDB(object):\n",
    "    def __setattr__(self, name, value):\n",
    "        # Save some data to the DB log\n",
    "        super().__setattr__(name, value)"
   ]
  },
  {
   "cell_type": "code",
   "execution_count": 12,
   "metadata": {},
   "outputs": [],
   "source": [
    "class LoggingSavingDB(SavingDB):\n",
    "    def __setattr__(self, name, value):\n",
    "        print('Called __setattr__(%s, %r)' % (name, value))\n",
    "        super().__setattr__(name, value)"
   ]
  },
  {
   "cell_type": "code",
   "execution_count": 13,
   "metadata": {},
   "outputs": [
    {
     "name": "stdout",
     "output_type": "stream",
     "text": [
      "Before:  {}\n",
      "Called __setattr__(foo, 5)\n",
      "After:   {'foo': 5}\n",
      "Called __setattr__(foo, 7)\n",
      "Finally: {'foo': 7}\n"
     ]
    }
   ],
   "source": [
    "data = LoggingSavingDB()\n",
    "print('Before: ', data.__dict__)\n",
    "data.foo = 5\n",
    "print('After:  ', data.__dict__)\n",
    "data.foo = 7\n",
    "print('Finally:', data.__dict__)"
   ]
  },
  {
   "cell_type": "markdown",
   "metadata": {},
   "source": [
    "**注意：**使用\\_\\_getattribute\\_\\_和\\_\\_setattr\\_\\_挂钩方法，每次访问对象属性事，它们都会触发。"
   ]
  },
  {
   "cell_type": "markdown",
   "metadata": {},
   "source": [
    "**示例：**在查询对象的属性时，从对象内部的一份字典里面，搜寻与待查属性相关联的属性值。"
   ]
  },
  {
   "cell_type": "code",
   "execution_count": 14,
   "metadata": {},
   "outputs": [],
   "source": [
    "class BrokenDictionaryDB(object):\n",
    "    def __init__(self, data):\n",
    "        self._data = data\n",
    "\n",
    "    def __getattribute__(self, name):\n",
    "        print('Called __getattribute__(%s)' % name)\n",
    "        return self._data[name]"
   ]
  },
  {
   "cell_type": "code",
   "execution_count": 15,
   "metadata": {},
   "outputs": [],
   "source": [
    "# 会导致Python程序反复递归，从而堆栈溢出。\n",
    "# try:\n",
    "#     data = BrokenDictionaryDB({'foo': 3})\n",
    "#     data.foo\n",
    "# except:\n",
    "#     logging.exception('Expected')\n",
    "# else:\n",
    "#     assert False"
   ]
  },
  {
   "cell_type": "markdown",
   "metadata": {},
   "source": [
    "**解决办法：**采用super().\\_\\_getattribute\\_\\_方法，从实例的属性字典里面直接获取_data属性值，避免无限递归。"
   ]
  },
  {
   "cell_type": "code",
   "execution_count": 16,
   "metadata": {},
   "outputs": [],
   "source": [
    "class DictionaryDB(object):\n",
    "    def __init__(self, data):\n",
    "        self._data = data\n",
    "\n",
    "    def __getattribute__(self, name):\n",
    "        data_dict = super().__getattribute__('_data')\n",
    "        return data_dict[name]"
   ]
  },
  {
   "cell_type": "code",
   "execution_count": 17,
   "metadata": {},
   "outputs": [
    {
     "name": "stdout",
     "output_type": "stream",
     "text": [
      "3\n"
     ]
    }
   ],
   "source": [
    "data = DictionaryDB({'foo': 3})\n",
    "print(data.foo)"
   ]
  }
 ],
 "metadata": {
  "kernelspec": {
   "display_name": "Python 3",
   "language": "python",
   "name": "python3"
  },
  "language_info": {
   "codemirror_mode": {
    "name": "ipython",
    "version": 3
   },
   "file_extension": ".py",
   "mimetype": "text/x-python",
   "name": "python",
   "nbconvert_exporter": "python",
   "pygments_lexer": "ipython3",
   "version": "3.7.2"
  },
  "toc": {
   "base_numbering": 1,
   "nav_menu": {},
   "number_sections": false,
   "sideBar": true,
   "skip_h1_title": false,
   "title_cell": "Table of Contents",
   "title_sidebar": "Contents",
   "toc_cell": false,
   "toc_position": {
    "height": "calc(100% - 180px)",
    "left": "10px",
    "top": "150px",
    "width": "273.188px"
   },
   "toc_section_display": true,
   "toc_window_display": false
  }
 },
 "nbformat": 4,
 "nbformat_minor": 1
}
